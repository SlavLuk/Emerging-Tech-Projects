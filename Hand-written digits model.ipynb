{
 "cells": [
  {
   "cell_type": "markdown",
   "metadata": {},
   "source": [
    "## Hand-written digits Recognition Notebook\n",
    "\n",
    "This notebook is intended to demonstrate the implementation of a Convolutional neural network model in Keras (backend TensorFlow) for recognising handwritten digits in images. The original paper could be found [here](http://yann.lecun.com/exdb/publis/pdf/lecun-98.pdf). Before getting started, import any libraries that may be required."
   ]
  },
  {
   "cell_type": "code",
   "execution_count": 1,
   "metadata": {},
   "outputs": [],
   "source": [
    "#Import required libraries\n",
    "\n",
    "#This module performs conversions between Python values and C structs represented as Python bytes objects.\n",
    "import struct as st \n",
    "# Efficiently deals with numerical multi-dimensional arrays.\n",
    "import numpy as np \n",
    "# Matplotlib is a plotting library. pyplot is its easy-to-use module.\n",
    "import matplotlib.pyplot as plt\n",
    "# Tensorflow backend keras\n",
    "import tensorflow.keras as kr\n",
    "from tensorflow.keras.models import Sequential\n",
    "from tensorflow.keras.layers import Conv2D\n",
    "from tensorflow.keras.layers import MaxPooling2D\n",
    "from tensorflow.keras.layers import Flatten\n",
    "from tensorflow.keras.layers import Dense\n",
    "from tensorflow.keras.layers import Dropout"
   ]
  },
  {
   "cell_type": "markdown",
   "metadata": {},
   "source": [
    "## First method to read and convert mnist dataset in idx format into python numpy array\n",
    "\n",
    "The next step is to load the data to train and test the model.The MNIST database of handwritten digits, available from [this page](http://yann.lecun.com/exdb/mnist/), has a training set of 60,000 examples, and a test set of 10,000 examples. It is a subset of a larger set available from NIST. The digits have been size-normalized and centered in a fixed-size image."
   ]
  },
  {
   "cell_type": "code",
   "execution_count": 2,
   "metadata": {},
   "outputs": [
    {
     "name": "stdout",
     "output_type": "stream",
     "text": [
      "(10000, 28, 28)\n"
     ]
    }
   ],
   "source": [
    "# Adapted from : https://medium.com/@mannasiladittya/converting-mnist-data-in-idx-format-to-python-numpy-array-5cb9126f99f1\n",
    "\n",
    "\n",
    "filename = {'train_images' : './mnist_dataset/train-images.idx3-ubyte' ,'train_labels' : './mnist_dataset/train-labels.idx1-ubyte',\n",
    "            'test_img':'./mnist_dataset/t10k-images.idx3-ubyte','test_lbl':'./mnist_dataset/t10k-labels.idx1-ubyte'}\n",
    "# Open the IDX file in readable binary mode.\n",
    "train_imagesfile = open(filename['train_images'],'rb')\n",
    "train_labelsfile = open(filename['train_labels'],'rb')\n",
    "test_imagesfile = open(filename['test_img'],'rb')\n",
    "test_labelsfile = open(filename['test_lbl'],'rb')\n",
    "\n",
    "# Set pointer to the beginning of the file.\n",
    "train_imagesfile.seek(0)\n",
    "train_labelsfile.seek(0)\n",
    "test_imagesfile.seek(0)\n",
    "test_labelsfile.seek(0)\n",
    "\n",
    "# Read the magic number\n",
    "magic_img = st.unpack('>4B',train_imagesfile.read(4))\n",
    "magic_lab = st.unpack('>4B',train_labelsfile.read(4))\n",
    "magic_test_img = st.unpack('>4B',test_imagesfile.read(4))\n",
    "magic_test_lab = st.unpack('>4B',test_labelsfile.read(4))\n",
    "\n",
    "# Read the dimensions of the Image data-set\n",
    "train_images = st.unpack('>I',train_imagesfile.read(4))[0] #num of images\n",
    "n_row_i = st.unpack('>I',train_imagesfile.read(4))[0] #num of rows\n",
    "n_col_i = st.unpack('>I',train_imagesfile.read(4))[0] #num of column\n",
    "\n",
    "test_images = st.unpack('>I',test_imagesfile.read(4))[0] #num of images\n",
    "n_row_test = st.unpack('>I',test_imagesfile.read(4))[0] #num of rows\n",
    "n_col_test = st.unpack('>I',test_imagesfile.read(4))[0] #num of column\n",
    "\n",
    "# Read the dimensions of the Label data-set\n",
    "train_labels = st.unpack('>I',train_labelsfile.read(4))[0] #num of items\n",
    "test_labels = st.unpack('>I',test_labelsfile.read(4))[0] #num of items\n",
    "\n",
    "# Reading the Image data\n",
    "train_bytes_total = train_images*n_row_i*n_col_i*1 \n",
    "test_bytes_total = test_images*n_row_test*n_col_test*1 \n",
    "\n",
    "# 'B' is used since it is of 'unsigned char' C type and ‘integer’ Python type\n",
    "# and has standard size 1 as mentioned in the official documentation of struct.\n",
    "# ‘>’ is used since the data is in MSB first (high endian) format used by most \n",
    "# non-Intel processors, as mentioned in their original website.\n",
    "train_img = 255 - np.asarray(st.unpack('>'+'B'*train_bytes_total,train_imagesfile.read(train_bytes_total))).reshape((train_images,n_row_i,n_col_i))\n",
    "test_img =   255 - np.asarray(st.unpack('>'+'B'*test_bytes_total,test_imagesfile.read(test_bytes_total))).reshape((test_images,n_row_test,n_col_test))\n",
    " \n",
    "# Reading the label data\n",
    "train_lbl = np.asarray(st.unpack('>'+'B'*train_labels,train_labelsfile.read(train_labels))).reshape((train_labels))\n",
    "test_lbl = np.asarray(st.unpack('>'+'B'*test_labels,test_labelsfile.read(test_labels))).reshape((test_labels))\n",
    "\n",
    "# Close read files\n",
    "train_imagesfile.close()\n",
    "train_labelsfile.close()\n",
    "test_imagesfile.close()\n",
    "test_labelsfile.close()\n",
    "\n",
    "print(test_img.shape)"
   ]
  },
  {
   "cell_type": "code",
   "execution_count": 3,
   "metadata": {},
   "outputs": [
    {
     "name": "stdout",
     "output_type": "stream",
     "text": [
      "5\n"
     ]
    },
    {
     "data": {
      "image/png": "[encoded data removed]",
      "text/plain": [
       "<Figure size 432x288 with 1 Axes>"
      ]
     },
     "metadata": {
      "needs_background": "light"
     },
     "output_type": "display_data"
    }
   ],
   "source": [
    "plt.imshow(test_img[132], cmap='gray')\n",
    "\n",
    "print(test_lbl[132])\n"
   ]
  },
  {
   "cell_type": "markdown",
   "metadata": {},
   "source": [
    "## Second method to load the MNIST dataset into Python numpy array\n",
    "\n",
    "In order to load the data to train and test the model. For this we will use the MNIST data set available from Keras."
   ]
  },
  {
   "cell_type": "code",
   "execution_count": 4,
   "metadata": {},
   "outputs": [
    {
     "name": "stderr",
     "output_type": "stream",
     "text": [
      "Using TensorFlow backend.\n"
     ]
    },
    {
     "name": "stdout",
     "output_type": "stream",
     "text": [
      "<class 'numpy.ndarray'>\n",
      "Train set of images are 3D array (60000, 28, 28)\n",
      "Test set of images are 3D array (10000, 28, 28)\n"
     ]
    }
   ],
   "source": [
    "# import MNIST dataset with keras\n",
    "import keras\n",
    "from keras.datasets import mnist\n",
    "\n",
    "# the data, shuffled and split between train and test sets\n",
    "(x_train, y_train), (x_test, y_test) = mnist.load_data()\n",
    "\n",
    "print(type(x_train))\n",
    "print('Train set of images are 3D array',x_train.shape)# 60000 of images in train set,sized by 28x28 pixals\n",
    "print('Test set of images are 3D array',x_test.shape)# 10000 of images in test set"
   ]
  },
  {
   "cell_type": "markdown",
   "metadata": {},
   "source": [
    "#### Reshaping data\n",
    "\n",
    "The datasets are 3D arrays. Training dataset shape is (60000, 28, 28) & Testing dataset shape is (10000, 28, 28). The input shape that CNN expects is a 4D array (batch, height, width, channels). Channels signify whether the image is grayscale or colored. In our case, we are using grayscale images so we give 1 for channels if these are colored images we give 3(RGB). Below code for reshaping our inputs"
   ]
  },
  {
   "cell_type": "code",
   "execution_count": 5,
   "metadata": {},
   "outputs": [
    {
     "name": "stdout",
     "output_type": "stream",
     "text": [
      "(60000, 28, 28, 1)\n"
     ]
    }
   ],
   "source": [
    "# Reshape to the expected CNN format \n",
    "x_train = x_train.reshape(x_train.shape[0], 28, 28, 1).astype('float32')\n",
    "x_test = x_test.reshape(x_test.shape[0], 28, 28, 1).astype('float32')\n",
    "\n",
    "print(x_train.shape)# 60000 images,28x28x1 "
   ]
  },
  {
   "cell_type": "markdown",
   "metadata": {},
   "source": [
    "#### Data Preprocessing\n",
    "\n",
    "- When our data is comprised of attributes with varying scales, many machine learning algorithms can benefit from rescaling the attributes to all have the same scale.\n",
    "- This is useful for optimization algorithmsm used in the core of machine learning algorithms like gradient descent."
   ]
  },
  {
   "cell_type": "code",
   "execution_count": 6,
   "metadata": {},
   "outputs": [
    {
     "name": "stdout",
     "output_type": "stream",
     "text": [
      "(28, 28, 1)\n"
     ]
    }
   ],
   "source": [
    "# scaling images to make gradient descent process faster\n",
    "x_train=x_train/255\n",
    "x_test=x_test/255\n",
    "\n",
    "print(x_train[1].shape)"
   ]
  },
  {
   "cell_type": "markdown",
   "metadata": {},
   "source": [
    "#### Encoding Categorical Values in Python\n",
    "\n",
    "Categorical data are variables that contain label values rather than numeric values.\n",
    "Many machine learning algorithms cannot operate on label data directly. They require all input variables and output variables to be numeric.\n",
    "One hot encoding is a process by which categorical variables are converted into a form that could be provided to ML algorithms to do a better job in prediction."
   ]
  },
  {
   "cell_type": "code",
   "execution_count": 7,
   "metadata": {},
   "outputs": [],
   "source": [
    "\n",
    "\n",
    "# encoding categorical variables (one,two,three...) into numerical (1,2,3...)\n",
    "# adapted from : https://pbpython.com/categorical-encoding.html\n",
    "\n",
    "y_train = kr.utils.to_categorical(y_train, 10)\n",
    "y_test = kr.utils.to_categorical(y_test, 10)\n"
   ]
  },
  {
   "cell_type": "code",
   "execution_count": 8,
   "metadata": {},
   "outputs": [
    {
     "name": "stdout",
     "output_type": "stream",
     "text": [
      " 0, 1, 2, 3, 4, 5, 6, 7, 8, 9\n",
      "[0. 0. 0. 0. 0. 1. 0. 0. 0. 0.]\n"
     ]
    },
    {
     "data": {
      "text/plain": [
       "<matplotlib.image.AxesImage at 0x2be22b03fc8>"
      ]
     },
     "execution_count": 8,
     "metadata": {},
     "output_type": "execute_result"
    },
    {
     "data": {
      "image/png": "[encoded data removed]",
      "text/plain": [
       "<Figure size 432x288 with 1 Axes>"
      ]
     },
     "metadata": {
      "needs_background": "light"
     },
     "output_type": "display_data"
    }
   ],
   "source": [
    "print(' 0, 1, 2, 3, 4, 5, 6, 7, 8, 9')\n",
    "print(y_test[132])\n",
    "plt.imshow(x_test[132].reshape(28, 28), cmap='gray')\n",
    "\n"
   ]
  },
  {
   "cell_type": "markdown",
   "metadata": {},
   "source": [
    "### Convolutional Neural Network\n",
    "\n",
    "A Convolutional Neural Network (CNN) is comprised of one or more convolutional layers (often with a subsampling step) and then followed by one or more fully connected layers as in a standard multilayer neural network. The architecture of a CNN is designed to take advantage of the 2D structure of an input image (or other 2D input such as a speech signal). This is achieved with local connections and tied weights followed by some form of pooling which results in translation invariant features. Another benefit of CNNs is that they are easier to train and have many fewer parameters than fully connected networks with the same number of hidden units.\n",
    "\n",
    "A CNN consists of a number of convolutional and subsampling layers optionally followed by fully connected layers. The input to a convolutional layer is a m x m x r image where m is the height and width of the image and r is the number of channels, e.g. an RGB image has r=3,in our case we have only one channel thus r = 1.\n",
    "\n",
    "The convolutional layer will have k filters (or kernels) of size n x n x q where n is smaller than the dimension of the image and q can either be the same as the number of channels r or smaller and may vary for each kernel. The size of the filters gives rise to the locally connected structure which are each convolved with the image to produce k feature maps of size m−n+1. Each map is then subsampled typically with mean or max pooling over p x p contiguous regions where p ranges between 2 for small images (e.g. MNIST) and is usually not more than 5 for larger inputs. Either before or after the subsampling layer an additive bias and sigmoidal nonlinearity is applied to each feature map."
   ]
  },
  {
   "cell_type": "markdown",
   "metadata": {},
   "source": [
    "![Convolutional neural network](./img/conv.jpeg)"
   ]
  },
  {
   "cell_type": "markdown",
   "metadata": {},
   "source": [
    "#### Building the Convolutional Neural Network\n",
    "\n",
    "Steps to build CNN\n",
    "1. Provide the input image into convolution layer.\n",
    "2. Take convolution with featured kernel/filters.\n",
    "3. Apply pooling layer to reduce the dimensions.\n",
    "4. Add these layers multiple times.\n",
    "5. Flatten the output and feed into a fully connected layer.\n",
    "6. Train the model with backpropagation using logistic regression.\n",
    "\n",
    "    * The first layer of code is a hidden layer called a Convolution2D. The layer has 32 filters/output channels, which with the size of 3×3 and an activation function. This is also the input layer, expecting images with the structure outlined above (height, width, channels).(28x28x1)\n",
    "    * The Second layer is the MaxPooling layer. MaxPooling layer is used to down-sample the input to enable the model to make assumptions about the features so as to reduce over-fitting. It also reduces the number of parameters to learn, reducing the training time.\n",
    "    * The third layer is a hidden layer Convolution2D with 64 filters/output channels with the size of 3×3 and an activation function.Because it is not the first layer there is no need for input_shape parameters.\n",
    "    * The forth layer is a MaxPooling layer.\n",
    "    * The sixth layer converts the 2D matrix data to a vector called Flatten. It allows the output to be processed by a fully connected neural network.\n",
    "    * The seventh is a fully connected layer with 128 neurons.\n",
    "    * The eighth and final layer is an output layer with 10 neurons and it uses softmax activation function. Each neuron will give the probability of that class. It’s a multi-class classification that’s why softmax activation function if it was a binary classification we would use sigmoid activation function.\n",
    "\n"
   ]
  },
  {
   "cell_type": "code",
   "execution_count": 9,
   "metadata": {},
   "outputs": [],
   "source": [
    "# Initialising the CNN\n",
    "model = Sequential()\n",
    "#  Implements the forward propagation for the model:\n",
    "#   CONV2D -> RELU -> MAXPOOL -> CONV2D -> RELU -> MAXPOOL -> FLATTEN -> FULLYCONNECTED\n",
    "\n",
    "# Convolution layer\n",
    "model.add(Conv2D(32,(3,3),strides=(1, 1),input_shape = (x_train.shape[1],x_train.shape[2],1),activation = 'relu',padding='same'))\n",
    "\n",
    "# Pooling as reducing feature map\n",
    "model.add(MaxPooling2D(pool_size=(2,2),strides=(2,2)))\n",
    "\n",
    "# Apply 64 filters sized of (3x3) on 2nd convolution layer\n",
    "model.add(Conv2D(64,kernel_size=(3,3),strides=(1, 1),activation = 'relu',padding='same')) \n",
    "          \n",
    "model.add(MaxPooling2D(pool_size=(2,2),strides=(2,2)))\n",
    "\n",
    "model.add(Dropout(0.5))\n",
    "\n",
    "# Flattening\n",
    "model.add(Flatten())\n",
    "\n",
    "# Full connection\n",
    "model.add(Dense(model.output_shape[1],activation = 'relu'))\n",
    "model.add(Dense(10,activation = 'softmax'))"
   ]
  },
  {
   "cell_type": "markdown",
   "metadata": {},
   "source": [
    "#### Compiling the Model\n",
    "\n",
    "To complile the model I used categorical_crossentropy as a loss function because its a multi-class classification problem.\n",
    "Categorical crossentropy is a loss function that is used for single label categorization. This is when only one category is applicable for each data point. In other words, an example can belong to one class only."
   ]
  },
  {
   "cell_type": "code",
   "execution_count": 10,
   "metadata": {},
   "outputs": [],
   "source": [
    "\n",
    "\n",
    "# Compiling of the Model\n",
    "model.compile( optimizer='adam',loss='categorical_crossentropy', metrics=['accuracy'])\n"
   ]
  },
  {
   "cell_type": "markdown",
   "metadata": {},
   "source": [
    "#### Training the model for a fixed number of epochs (iterations on a dataset).\n",
    "\n",
    "The test data is used as the validation dataset, allowing you to see the skill of the model as it trains."
   ]
  },
  {
   "cell_type": "code",
   "execution_count": 11,
   "metadata": {},
   "outputs": [
    {
     "name": "stdout",
     "output_type": "stream",
     "text": [
      "Train on 60000 samples, validate on 10000 samples\n",
      "Epoch 1/10\n",
      "60000/60000 [==============================] - 305s 5ms/sample - loss: 0.1833 - accuracy: 0.9441 - val_loss: 0.0412 - val_accuracy: 0.9867\n",
      "Epoch 2/10\n",
      "60000/60000 [==============================] - 299s 5ms/sample - loss: 0.0607 - accuracy: 0.9812 - val_loss: 0.0342 - val_accuracy: 0.9893\n",
      "Epoch 3/10\n",
      "60000/60000 [==============================] - 295s 5ms/sample - loss: 0.0458 - accuracy: 0.9853 - val_loss: 0.0245 - val_accuracy: 0.9913\n",
      "Epoch 4/10\n",
      "60000/60000 [==============================] - 294s 5ms/sample - loss: 0.0326 - accuracy: 0.9893 - val_loss: 0.0221 - val_accuracy: 0.9926\n",
      "Epoch 5/10\n",
      "60000/60000 [==============================] - 293s 5ms/sample - loss: 0.0282 - accuracy: 0.9911 - val_loss: 0.0211 - val_accuracy: 0.9925\n",
      "Epoch 6/10\n",
      "60000/60000 [==============================] - 297s 5ms/sample - loss: 0.0251 - accuracy: 0.9912 - val_loss: 0.0252 - val_accuracy: 0.9919\n",
      "Epoch 7/10\n",
      "60000/60000 [==============================] - 302s 5ms/sample - loss: 0.0212 - accuracy: 0.9929 - val_loss: 0.0207 - val_accuracy: 0.9931\n",
      "Epoch 8/10\n",
      "60000/60000 [==============================] - 305s 5ms/sample - loss: 0.0187 - accuracy: 0.9940 - val_loss: 0.0206 - val_accuracy: 0.9935\n",
      "Epoch 9/10\n",
      "60000/60000 [==============================] - 351s 6ms/sample - loss: 0.0169 - accuracy: 0.9943 - val_loss: 0.0202 - val_accuracy: 0.9926\n",
      "Epoch 10/10\n",
      "60000/60000 [==============================] - 325s 5ms/sample - loss: 0.0153 - accuracy: 0.9948 - val_loss: 0.0227 - val_accuracy: 0.9919\n"
     ]
    },
    {
     "data": {
      "text/plain": [
       "<tensorflow.python.keras.callbacks.History at 0x2be2469e948>"
      ]
     },
     "execution_count": 11,
     "metadata": {},
     "output_type": "execute_result"
    }
   ],
   "source": [
    "\n",
    "# Train the model\n",
    "model.fit(x_train, y_train, validation_data=(x_test, y_test), epochs=10, batch_size=200)"
   ]
  },
  {
   "cell_type": "markdown",
   "metadata": {},
   "source": [
    "#### Evaluation of the Model\n",
    "The test dataset is used to evaluate the model and after evaluation Test loss & Test Accuracy metrics will be printed. I achieved a 99% accuracy."
   ]
  },
  {
   "cell_type": "code",
   "execution_count": 12,
   "metadata": {},
   "outputs": [
    {
     "name": "stdout",
     "output_type": "stream",
     "text": [
      "Metrics(Test loss & Test Accuracy): \n",
      "[0.022652018182754547, 0.9919]\n"
     ]
    }
   ],
   "source": [
    "\n",
    "# Evaluation of the model\n",
    "metrics = model.evaluate(x_test, y_test, verbose=0)\n",
    "print(\"Metrics(Test loss & Test Accuracy): \")\n",
    "print(metrics)"
   ]
  },
  {
   "cell_type": "markdown",
   "metadata": {},
   "source": [
    "#### Saving the  Model\n",
    "\n",
    "I am saving this model for the future use in my web application to predict user's hand written digits.\n",
    "\n",
    "To save a Keras model into a single HDF5 file which will contain:\n",
    "- the architecture of the model, allowing to re-create the model\n",
    "- the weights of the model\n",
    "- the training configuration (loss, optimizer)\n",
    "- the state of the optimizer, allowing to resume training exactly where you left off."
   ]
  },
  {
   "cell_type": "code",
   "execution_count": 13,
   "metadata": {},
   "outputs": [],
   "source": [
    "# save everything to h5 file format\n",
    "model.save('./model/model.h5')\n",
    "\n",
    "\n",
    "\n"
   ]
  },
  {
   "cell_type": "code",
   "execution_count": 14,
   "metadata": {},
   "outputs": [],
   "source": [
    "from tensorflow.keras.models import load_model"
   ]
  },
  {
   "cell_type": "markdown",
   "metadata": {},
   "source": [
    "#### Re-creating saved model\n",
    "\n",
    "To reinstantiate our model we can use __load_model__ .It will also take care of compiling the model using the saved training configuration (unless the model was never compiled in the first place)."
   ]
  },
  {
   "cell_type": "code",
   "execution_count": 15,
   "metadata": {},
   "outputs": [],
   "source": [
    "\n",
    "# load already compiled model\n",
    "load_model = load_model('./model/model.h5')"
   ]
  },
  {
   "cell_type": "code",
   "execution_count": 16,
   "metadata": {},
   "outputs": [
    {
     "name": "stdout",
     "output_type": "stream",
     "text": [
      "---------------  0, 1, 2, 3, 4, 5, 6, 7, 8, 9\n",
      "Actual label :  [0. 0. 0. 0. 0. 0. 1. 0. 0. 0.]\n",
      "Predicted class :  [6]\n"
     ]
    },
    {
     "data": {
      "image/png": "[encoded data removed]",
      "text/plain": [
       "<Figure size 432x288 with 1 Axes>"
      ]
     },
     "metadata": {
      "needs_background": "light"
     },
     "output_type": "display_data"
    }
   ],
   "source": [
    "prd_img = load_model.predict_classes(x_test[50].reshape(-1,28,28,1))\n",
    "\n",
    "plt.imshow(x_test[50].reshape(28, 28), cmap='gray')\n",
    "print('---------------  0, 1, 2, 3, 4, 5, 6, 7, 8, 9',)\n",
    "print('Actual label : ', y_test[50])\n",
    "print('Predicted class : ',prd_img)"
   ]
  },
  {
   "cell_type": "markdown",
   "metadata": {},
   "source": [
    "## References\n",
    "- Ian McLoughlin Lecture notes and Videos\n",
    "- [Converting MNIST dataset for Handwritten digit recognition.](https://medium.com/@mannasiladittya/converting-mnist-data-in-idx-format-to-python-numpy-array-5cb9126f99f1)\n",
    "- [An intuitive guide to Convolutional Neural Networks.](https://medium.freecodecamp.org/an-intuitive-guide-to-convolutional-neural-networks-260c2de0a050)\n",
    "- [Understanding of Convolutional Neural Network (CNN).](https://medium.com/@RaghavPrabhu/understanding-of-convolutional-neural-network-cnn-deep-learning-99760835f148)\n",
    "- [Keras Convolutional Layers](https://keras.io/layers/convolutional/)\n",
    "- [Data Preprocessing for Machine learning in Python](https://www.geeksforgeeks.org/data-preprocessing-machine-learning-python/)\n",
    "- [Encoding Categorical Values in Pythonm](https://pbpython.com/categorical-encoding.html)\n",
    "- [Convolutional Neural Network](http://deeplearning.stanford.edu/tutorial/supervised/ConvolutionalNeuralNetwork/)\n",
    "- [Loss functions](https://peltarion.com/knowledge-center/documentation/modeling-view/build-an-ai-model/loss-functions)"
   ]
  }
 ],
 "metadata": {
  "kernelspec": {
   "display_name": "Python 3",
   "language": "python",
   "name": "python3"
  },
  "language_info": {
   "codemirror_mode": {
    "name": "ipython",
    "version": 3
   },
   "file_extension": ".py",
   "mimetype": "text/x-python",
   "name": "python",
   "nbconvert_exporter": "python",
   "pygments_lexer": "ipython3",
   "version": "3.7.4"
  }
 },
 "nbformat": 4,
 "nbformat_minor": 2
}
