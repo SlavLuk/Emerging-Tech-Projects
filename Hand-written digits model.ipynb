{
 "cells": [
  {
   "cell_type": "code",
   "execution_count": 8,
   "metadata": {},
   "outputs": [],
   "source": [
    "#import required libraries\n",
    "\n",
    "import struct as st #This module performs conversions between Python values and C structs represented as Python bytes objects.\n",
    "import numpy as np \n",
    "import matplotlib.pyplot as plt\n",
    "import tensorflow.keras as kr\n",
    "from tensorflow.keras.models import Sequential\n",
    "from tensorflow.keras.layers import Conv2D\n",
    "from tensorflow.keras.layers import MaxPooling2D\n",
    "from tensorflow.keras.layers import Flatten\n",
    "from tensorflow.keras.layers import Dense\n",
    "from tensorflow.keras.layers import Dropout"
   ]
  },
  {
   "cell_type": "markdown",
   "metadata": {},
   "source": [
    "## First method to read and convert mnist dataset in idx format into python numpy array"
   ]
  },
  {
   "cell_type": "code",
   "execution_count": 2,
   "metadata": {},
   "outputs": [],
   "source": [
    "# Adapted from : https://medium.com/@mannasiladittya/converting-mnist-data-in-idx-format-to-python-numpy-array-5cb9126f99f1\n",
    "\n",
    "# Open the IDX file in readable binary mode.\n",
    "filename = {'train_images' : './mnist_dataset/train-images.idx3-ubyte' ,'train_labels' : './mnist_dataset/train-labels.idx1-ubyte',\n",
    "            'test_img':'./mnist_dataset/t10k-images.idx3-ubyte','test_lbl':'./mnist_dataset/t10k-labels.idx1-ubyte'}\n",
    "train_imagesfile = open(filename['train_images'],'rb')\n",
    "train_labelsfile = open(filename['train_labels'],'rb')\n",
    "test_imagesfile = open(filename['test_img'],'rb')\n",
    "test_labelsfile = open(filename['test_lbl'],'rb')\n",
    "\n",
    "\n",
    "# Set pointer to the beginning of the file.\n",
    "train_imagesfile.seek(0)\n",
    "train_labelsfile.seek(0)\n",
    "test_imagesfile.seek(0)\n",
    "test_labelsfile.seek(0)\n",
    "\n",
    "# Read the magic number\n",
    "magic_img = st.unpack('>4B',train_imagesfile.read(4))\n",
    "magic_lab = st.unpack('>4B',train_labelsfile.read(4))\n",
    "magic_test_img = st.unpack('>4B',test_imagesfile.read(4))\n",
    "magic_test_lab = st.unpack('>4B',test_labelsfile.read(4))\n",
    "\n",
    "\n",
    "# Read the dimensions of the Image data-set\n",
    "train_images = st.unpack('>I',train_imagesfile.read(4))[0] #num of images\n",
    "n_row_i = st.unpack('>I',train_imagesfile.read(4))[0] #num of rows\n",
    "n_col_i = st.unpack('>I',train_imagesfile.read(4))[0] #num of column\n",
    "\n",
    "test_images = st.unpack('>I',test_imagesfile.read(4))[0] #num of images\n",
    "n_row_test = st.unpack('>I',test_imagesfile.read(4))[0] #num of rows\n",
    "n_col_test = st.unpack('>I',test_imagesfile.read(4))[0] #num of column\n",
    "\n",
    "# Read the dimensions of the Label data-set\n",
    "train_labels = st.unpack('>I',train_labelsfile.read(4))[0] #num of items\n",
    "test_labels = st.unpack('>I',test_labelsfile.read(4))[0] #num of items\n",
    "\n",
    "# Reading the Image data\n",
    "train_bytes_total = train_images*n_row_i*n_col_i*1 \n",
    "test_bytes_total = test_images*n_row_test*n_col_test*1 \n",
    "\n",
    "# 'B' is used since it is of 'unsigned char' C type and ‘integer’ Python type\n",
    "# and has standard size 1 as mentioned in the official documentation of struct.\n",
    "# ‘>’ is used since the data is in MSB first (high endian) format used by most \n",
    "# non-Intel processors, as mentioned in their original website.\n",
    "train_img = 255 - np.asarray(st.unpack('>'+'B'*train_bytes_total,train_imagesfile.read(train_bytes_total))).reshape((train_images,n_row_i,n_col_i))\n",
    "test_img =   255 - np.asarray(st.unpack('>'+'B'*test_bytes_total,test_imagesfile.read(test_bytes_total))).reshape((test_images,n_row_test,n_col_test))\n",
    " \n",
    "# Reading the label data\n",
    "train_lbl = np.asarray(st.unpack('>'+'B'*train_labels,train_labelsfile.read(train_labels))).reshape((train_labels))\n",
    "test_lbl = np.asarray(st.unpack('>'+'B'*test_labels,test_labelsfile.read(test_labels))).reshape((test_labels))\n",
    "\n",
    "# Close read files\n",
    "train_imagesfile.close()\n",
    "train_labelsfile.close()\n",
    "test_imagesfile.close()\n",
    "test_labelsfile.close()\n",
    "\n"
   ]
  },
  {
   "cell_type": "code",
   "execution_count": 3,
   "metadata": {},
   "outputs": [
    {
     "name": "stdout",
     "output_type": "stream",
     "text": [
      "(28, 28, 1)\n"
     ]
    }
   ],
   "source": [
    "# Reshape to the expected CNN format \n",
    "train_img = train_img.reshape(train_img.shape[0], train_img.shape[1], train_img.shape[2], 1).astype('float32')\n",
    "test_img = test_img.reshape(test_img.shape[0], test_img.shape[1], test_img.shape[2], 1).astype('float32')\n",
    "\n",
    "print(test_img[132].shape)"
   ]
  },
  {
   "cell_type": "code",
   "execution_count": 4,
   "metadata": {},
   "outputs": [
    {
     "name": "stdout",
     "output_type": "stream",
     "text": [
      "5\n"
     ]
    },
    {
     "data": {
      "image/png": "[encoded data removed]",
      "text/plain": [
       "<Figure size 432x288 with 1 Axes>"
      ]
     },
     "metadata": {
      "needs_background": "light"
     },
     "output_type": "display_data"
    }
   ],
   "source": [
    "plt.imshow(test_img[132].reshape(28, 28), cmap='gray')\n",
    "\n",
    "print(test_lbl[132])\n"
   ]
  },
  {
   "cell_type": "markdown",
   "metadata": {},
   "source": [
    "## Second method to get mnist dataset into python numpy array"
   ]
  },
  {
   "cell_type": "code",
   "execution_count": 9,
   "metadata": {},
   "outputs": [
    {
     "name": "stdout",
     "output_type": "stream",
     "text": [
      "(60000, 28, 28)\n"
     ]
    }
   ],
   "source": [
    "# import MNIST dataset with keras\n",
    "import keras\n",
    "from keras.datasets import mnist\n",
    "\n",
    "# the data, shuffled and split between train and test sets\n",
    "(x_train, y_train), (x_test, y_test) = mnist.load_data()\n",
    "\n",
    "print(x_train.shape)# 60000 of images,sized by 28x28 pixals"
   ]
  },
  {
   "cell_type": "code",
   "execution_count": 10,
   "metadata": {},
   "outputs": [
    {
     "name": "stdout",
     "output_type": "stream",
     "text": [
      "(60000, 28, 28, 1)\n"
     ]
    }
   ],
   "source": [
    "# Reshape to the expected CNN format \n",
    "x_train = x_train.reshape(x_train.shape[0], 28, 28, 1).astype('float32')\n",
    "x_test = x_test.reshape(x_test.shape[0], 28, 28, 1).astype('float32')\n",
    "\n",
    "print(x_train.shape)# 60000 images,28x28x1 "
   ]
  },
  {
   "cell_type": "code",
   "execution_count": 11,
   "metadata": {},
   "outputs": [
    {
     "name": "stdout",
     "output_type": "stream",
     "text": [
      "(28, 28, 1)\n",
      "[0. 0. 0. 0. 0. 1. 0. 0. 0. 0.]\n"
     ]
    }
   ],
   "source": [
    "# scaling images to make gradient descent process faster\n",
    "x_train=x_train/255\n",
    "x_test=x_test/255\n",
    "\n",
    "print(x_train[1].shape)\n",
    "\n",
    "# encoding labels to categorical variables (0,1,2,3,4,5,6,7,8,9)\n",
    "# adapted from : https://pbpython.com/categorical-encoding.html\n",
    "y_train = kr.utils.to_categorical(y_train, 10)\n",
    "y_test = kr.utils.to_categorical(y_test, 10)\n",
    "\n",
    "print(y_train[0])\n"
   ]
  },
  {
   "cell_type": "code",
   "execution_count": 12,
   "metadata": {},
   "outputs": [
    {
     "name": "stdout",
     "output_type": "stream",
     "text": [
      "[0. 0. 0. 0. 0. 1. 0. 0. 0. 0.]\n"
     ]
    },
    {
     "data": {
      "image/png": "[encoded data removed]",
      "text/plain": [
       "<Figure size 432x288 with 1 Axes>"
      ]
     },
     "metadata": {
      "needs_background": "light"
     },
     "output_type": "display_data"
    }
   ],
   "source": [
    "plt.imshow(x_test[132].reshape(28, 28), cmap='gray')\n",
    "\n",
    "print(y_test[132])"
   ]
  },
  {
   "cell_type": "code",
   "execution_count": 9,
   "metadata": {},
   "outputs": [
    {
     "name": "stdout",
     "output_type": "stream",
     "text": [
      "Train on 60000 samples, validate on 10000 samples\n",
      "Epoch 1/10\n",
      "60000/60000 [==============================] - 191s 3ms/sample - loss: 0.2632 - accuracy: 0.9235 - val_loss: 0.0726 - val_accuracy: 0.9780\n",
      "Epoch 2/10\n",
      "60000/60000 [==============================] - 184s 3ms/sample - loss: 0.0684 - accuracy: 0.9793 - val_loss: 0.0478 - val_accuracy: 0.9848\n",
      "Epoch 3/10\n",
      "60000/60000 [==============================] - 171s 3ms/sample - loss: 0.0487 - accuracy: 0.9851 - val_loss: 0.0437 - val_accuracy: 0.9850\n",
      "Epoch 4/10\n",
      "60000/60000 [==============================] - 174s 3ms/sample - loss: 0.0373 - accuracy: 0.9884 - val_loss: 0.0303 - val_accuracy: 0.9907\n",
      "Epoch 5/10\n",
      "60000/60000 [==============================] - 189s 3ms/sample - loss: 0.0291 - accuracy: 0.9909 - val_loss: 0.0362 - val_accuracy: 0.9881\n",
      "Epoch 6/10\n",
      "60000/60000 [==============================] - 171s 3ms/sample - loss: 0.0229 - accuracy: 0.9929 - val_loss: 0.0305 - val_accuracy: 0.9890\n",
      "Epoch 7/10\n",
      "60000/60000 [==============================] - 172s 3ms/sample - loss: 0.0202 - accuracy: 0.9938 - val_loss: 0.0268 - val_accuracy: 0.9913\n",
      "Epoch 8/10\n",
      "60000/60000 [==============================] - 171s 3ms/sample - loss: 0.0157 - accuracy: 0.9951 - val_loss: 0.0262 - val_accuracy: 0.9912\n",
      "Epoch 9/10\n",
      "60000/60000 [==============================] - 171s 3ms/sample - loss: 0.0137 - accuracy: 0.9956 - val_loss: 0.0375 - val_accuracy: 0.9887\n",
      "Epoch 10/10\n",
      "60000/60000 [==============================] - 171s 3ms/sample - loss: 0.0105 - accuracy: 0.9966 - val_loss: 0.0330 - val_accuracy: 0.9902\n",
      "Metrics(Test loss & Test Accuracy): \n",
      "[0.032978368674188095, 0.9902]\n"
     ]
    }
   ],
   "source": [
    "# Initialising the CNN\n",
    "model = Sequential()\n",
    "# Convolution layer\n",
    "model.add(Conv2D(32,(3,3),input_shape = (x_train.shape[1],x_train.shape[2],1),activation = 'relu'))\n",
    "# Pooling as reducing feature map\n",
    "model.add(MaxPooling2D(pool_size=(2, 2)))\n",
    "# Apply 64 filters sized of (3x3) on 2nd convolution layer\n",
    "model.add(Conv2D(64,(3, 3),activation = 'relu')) \n",
    "model.add(MaxPooling2D(pool_size=(2,2)))\n",
    "\n",
    "# Flattening\n",
    "model.add(Flatten())\n",
    "# Full connection\n",
    "model.add(Dense(128,activation = 'relu'))\n",
    "model.add(Dense(10,activation = 'softmax'))\n",
    "\n",
    "# Compiling of the Model\n",
    "model.compile( optimizer='adam',loss='categorical_crossentropy', metrics=['accuracy'])\n",
    "\n",
    "# Fit the model\n",
    "\n",
    "model.fit(x_train, y_train, validation_data=(x_test, y_test), epochs=10, batch_size=200)\n",
    "\n",
    "# Evaluation of the model\n",
    "metrics = model.evaluate(x_test, y_test, verbose=0)\n",
    "print(\"Metrics(Test loss & Test Accuracy): \")\n",
    "print(metrics)"
   ]
  },
  {
   "cell_type": "code",
   "execution_count": 10,
   "metadata": {},
   "outputs": [],
   "source": [
    "# save everything to h5 file format\n",
    "model.save('./model/model.h5')\n",
    "\n",
    "\n",
    "\n"
   ]
  },
  {
   "cell_type": "code",
   "execution_count": 13,
   "metadata": {},
   "outputs": [],
   "source": [
    "from tensorflow.keras.models import load_model"
   ]
  },
  {
   "cell_type": "code",
   "execution_count": 14,
   "metadata": {},
   "outputs": [],
   "source": [
    "\n",
    "# load already compiled model\n",
    "load_model = load_model('./model/model.h5')"
   ]
  },
  {
   "cell_type": "code",
   "execution_count": 19,
   "metadata": {},
   "outputs": [
    {
     "name": "stdout",
     "output_type": "stream",
     "text": [
      "---------------  0, 1, 2, 3, 4, 5, 6, 7, 8, 9\n",
      "Actual label :  [0. 0. 0. 0. 0. 0. 0. 0. 0. 1.]\n",
      "Predicted class :  [9]\n"
     ]
    },
    {
     "data": {
      "image/png": "[encoded data removed]",
      "text/plain": [
       "<Figure size 432x288 with 1 Axes>"
      ]
     },
     "metadata": {
      "needs_background": "light"
     },
     "output_type": "display_data"
    }
   ],
   "source": [
    "prd_img = load_model.predict_classes(x_test[5001].reshape(-1,28,28,1))\n",
    "\n",
    "plt.imshow(x_test[5001].reshape(28, 28), cmap='gray')\n",
    "print('---------------  0, 1, 2, 3, 4, 5, 6, 7, 8, 9',)\n",
    "print('Actual label : ', y_test[5001])\n",
    "print('Predicted class : ',prd_img)"
   ]
  }
 ],
 "metadata": {
  "kernelspec": {
   "display_name": "Python 3",
   "language": "python",
   "name": "python3"
  },
  "language_info": {
   "codemirror_mode": {
    "name": "ipython",
    "version": 3
   },
   "file_extension": ".py",
   "mimetype": "text/x-python",
   "name": "python",
   "nbconvert_exporter": "python",
   "pygments_lexer": "ipython3",
   "version": "3.7.4"
  }
 },
 "nbformat": 4,
 "nbformat_minor": 2
}
